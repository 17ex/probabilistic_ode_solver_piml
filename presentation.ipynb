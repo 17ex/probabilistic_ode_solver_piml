{
 "cells": [
  {
   "cell_type": "markdown",
   "id": "d26ba465-164b-4b0a-878f-9983ce189917",
   "metadata": {},
   "source": [
    "# Probabilistic ODE solver"
   ]
  },
  {
   "cell_type": "markdown",
   "id": "eef66db9-73a6-4e81-86f2-c904fcff7f52",
   "metadata": {},
   "source": [
    "## About\n",
    "\n",
    "This notebook was created to accompany a presentation of\n",
    "probabilistic ODE solvers for the seminar \"Physics-informed Machine Learning\" at the University of Tübingen (winter term 2024/2025).\n",
    "\n",
    "It intends to explain the concept of probabilistic ODE solvers and showcase an example implementation of such a solver."
   ]
  },
  {
   "cell_type": "markdown",
   "id": "a9cff49c-8668-4f36-b78a-667ae1a09bf1",
   "metadata": {},
   "source": [
    "## References\n",
    "\n",
    "TODO"
   ]
  },
  {
   "cell_type": "markdown",
   "id": "9885f2e1-3995-4d4c-abfd-46c420108861",
   "metadata": {},
   "source": [
    "## Background"
   ]
  },
  {
   "cell_type": "markdown",
   "id": "b3619ae3-db90-4a24-991c-fb77a628305d",
   "metadata": {},
   "source": [
    "### Ordinary Differential Equations (ODEs)\n",
    "\n",
    "_Here_, an ODE is a function\n",
    "$$ y'(t) = f(y(t)) \\in \\mathbb{R}^d\\,, t \\in [0, T] $$\n",
    "and is solved by the curve\n",
    "$$ y: [0, T] \\rightarrow \\mathbb{R}^d\\,. $$\n",
    "\n",
    "We will only consider first-order ODEs (without loss of generality,\n",
    "as higher-order ODEs can be rewritten as a first-order ODE),\n",
    "in explicit form.\n",
    "\n",
    "Furthermore, we assume an initial value $ y(0) = y_0 $,\n",
    "turning our ODE into an initial value problem (IVP)."
   ]
  },
  {
   "cell_type": "code",
   "execution_count": null,
   "id": "7549f927-6f44-44d1-9135-652810680d54",
   "metadata": {},
   "outputs": [],
   "source": []
  },
  {
   "cell_type": "markdown",
   "id": "8c1e5e38-b2ea-46c7-a2ff-12486c31cde0",
   "metadata": {},
   "source": [
    "#### Lotka-Volterra system\n",
    "\n",
    "TODO probably way later"
   ]
  },
  {
   "cell_type": "markdown",
   "id": "961541a9-57fe-4237-8fec-5d26dbc6b7b3",
   "metadata": {},
   "source": [
    "### Standard GP Regression\n",
    "\n",
    "- TODO formulate"
   ]
  },
  {
   "cell_type": "markdown",
   "id": "4295cb45-97af-4f01-8fed-be33dc09a8bf",
   "metadata": {},
   "source": [
    "#### Problems with standard GP regression for ODE solving\n",
    "\n",
    "- Complexity $\\mathcal{O}(N^3)$\n",
    "- TODO"
   ]
  },
  {
   "cell_type": "markdown",
   "id": "1306daf5-d841-4a66-8c45-62b958127b3e",
   "metadata": {},
   "source": [
    "## Probabilistic ODE solvers"
   ]
  },
  {
   "cell_type": "markdown",
   "id": "418d3593-3a4e-436f-a3bb-e46fd490c61f",
   "metadata": {},
   "source": [
    "### Model ODE as Continuous-Time State Space Model (SSM)"
   ]
  },
  {
   "cell_type": "markdown",
   "id": "627be9c3-f3dd-4b13-86fc-b9def4763e6f",
   "metadata": {},
   "source": [
    "#### Dynamic model / State\n",
    "\n",
    "- TODO\n",
    "\n"
   ]
  },
  {
   "cell_type": "markdown",
   "id": "9d1914d9-4f3f-446d-bdb9-9511b975d573",
   "metadata": {},
   "source": [
    "#### Measurement model\n",
    "\n",
    "- TODO\n",
    "\n"
   ]
  },
  {
   "cell_type": "markdown",
   "id": "0a3a7436-5ea2-46ba-b31c-a76672376795",
   "metadata": {},
   "source": [
    "#### Integrated Wiener Process prior\n",
    "\n",
    "- TODO F, L\n",
    "- TODO structure of X this implies -> derivatives\n"
   ]
  },
  {
   "cell_type": "markdown",
   "id": "40ee2e24-f9c1-4d43-9b66-4f13c5724146",
   "metadata": {},
   "source": [
    "### Discrete Version of the SSM"
   ]
  },
  {
   "cell_type": "markdown",
   "id": "2599bbf2-cce4-4ce4-adf7-9b1c7b445323",
   "metadata": {},
   "source": [
    "#### TODO\n",
    "\n",
    "- t grid, A(h), Q(h)"
   ]
  },
  {
   "cell_type": "code",
   "execution_count": null,
   "id": "bd2ab4a5-2761-41b7-8d1f-3352b0d6661c",
   "metadata": {},
   "outputs": [],
   "source": [
    "# TODO\n",
    "# code for A, Q"
   ]
  },
  {
   "cell_type": "markdown",
   "id": "4939da7a-d3ad-4b2a-aa6f-e68ba2a6470a",
   "metadata": {},
   "source": [
    "#### TODO"
   ]
  },
  {
   "cell_type": "markdown",
   "id": "c9540027-57ed-402c-be27-341f3b444bcc",
   "metadata": {},
   "source": [
    "## Filtering and Smoothing"
   ]
  },
  {
   "cell_type": "markdown",
   "id": "f261b361-fb32-44f3-86e2-1a79026794ba",
   "metadata": {},
   "source": [
    "### Kalman Filter"
   ]
  },
  {
   "cell_type": "markdown",
   "id": "29e4ca82-73c8-4392-840e-242fd8d39f94",
   "metadata": {},
   "source": [
    "#### Extended Kalman Filter"
   ]
  },
  {
   "cell_type": "markdown",
   "id": "2c69b5d3-f317-4f14-b50f-f39ad703ac73",
   "metadata": {},
   "source": [
    "#### TODO how to handle d>1 in the notebook?"
   ]
  },
  {
   "cell_type": "markdown",
   "id": "7b41fd74-38ac-47e6-b983-7059258d4a6e",
   "metadata": {},
   "source": [
    "### Smoother"
   ]
  },
  {
   "cell_type": "markdown",
   "id": "69c0306c-d14a-4a48-83b4-bbff9c2d7ea7",
   "metadata": {},
   "source": [
    "## Simple Implementation"
   ]
  },
  {
   "cell_type": "markdown",
   "id": "37c9dfb5-89fb-4ab4-b929-b48804331ded",
   "metadata": {},
   "source": [
    "## Extensions of our simple implementation"
   ]
  },
  {
   "cell_type": "markdown",
   "id": "9f33fa19-a131-4c1b-842e-69febcb067ce",
   "metadata": {},
   "source": [
    "### Calibrated Uncertainty"
   ]
  },
  {
   "cell_type": "markdown",
   "id": "0684c151-be78-41e5-85dd-c9ed3bc061a4",
   "metadata": {},
   "source": [
    "#### Error estimation"
   ]
  },
  {
   "cell_type": "markdown",
   "id": "95104f32-8398-47b9-925a-0a700528145d",
   "metadata": {},
   "source": [
    "#### Step size adaptation"
   ]
  },
  {
   "cell_type": "markdown",
   "id": "09bf5c2f-8114-4438-8622-9626316ca9d5",
   "metadata": {},
   "source": [
    "### Numerical Stability"
   ]
  },
  {
   "cell_type": "markdown",
   "id": "713d259c-158d-4f76-a7b9-27a035b8a2d6",
   "metadata": {},
   "source": [
    "#### Nordsieck-like Rescaling"
   ]
  },
  {
   "cell_type": "markdown",
   "id": "808d071e-9e7d-41ba-9e01-9b02fd669eef",
   "metadata": {},
   "source": [
    "#### Square-Root Kalman Filter"
   ]
  }
 ],
 "metadata": {
  "kernelspec": {
   "display_name": "Python 3 (ipykernel)",
   "language": "python",
   "name": "python3"
  },
  "language_info": {
   "codemirror_mode": {
    "name": "ipython",
    "version": 3
   },
   "file_extension": ".py",
   "mimetype": "text/x-python",
   "name": "python",
   "nbconvert_exporter": "python",
   "pygments_lexer": "ipython3",
   "version": "3.12.7"
  }
 },
 "nbformat": 4,
 "nbformat_minor": 5
}
